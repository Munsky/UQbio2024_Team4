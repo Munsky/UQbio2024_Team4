{
 "cells": [
  {
   "cell_type": "code",
   "execution_count": 43,
   "metadata": {},
   "outputs": [
    {
     "data": {
      "text/plain": [
       "\"\\n## for this i will use the function split to separate the channels\\nimport numpy as np\\nsplit_channels = np.split(open_tiff, 3, axis=0)\\n\\n## I will use the function imshow to visualize the images and the channels separately \\nimport matplotlib.pyplot as plt\\nplt.imshow(split_channels[0])\\nplt.imshow(split_channels[1])\\nplt.imshow(split_channels[2])\\n\\n# 3- I want to save the metadata in a csv file\\n## for this i will use the package pandas and the function to_csv to save the metadata in a csv file\\nimport pandas as pd\\nmetadata_df = pd.DataFrame(metadata)\\nmetadata_df.to_csv('path/to/csv/file')\\n\\n# 4- The metadata should have this information for each tiff image:\\n\\n# column0: frame number\\n\\n# column1: cell number\\n\\n# column2: number of viable cells (this is 1 for alive cells and 0 for dead cells) in each frame and we are going to use channel 0\\n## for this i will use the function threshold to separate the cells from the background or i can use mask to separate the cells from the background \\n\\n# column3: cell size in each frame, we are going to use channel 1 to extract the cell size\\n##for this i can use mask to separate the cells from the background and then extract the cell size\\n\\n# column4: nucleus size in channel 0 for each cell in each frame\\n## for this i can use mask to separate the cells from the background and then extract the nucleus size\\n\\n# column5: protein concentration in channel 1 for each cell in each frame\\n## for this i can use mask to separate the cells from the background and then extract the protein concentration\\n\\n# column6: number of mRNA in nucleus in channel 2 for each cell in each frame\\n## i can use mask and threshold to separate the nucleus from the background and then extract the number of mRNA in the nucleus\\n\\n# column 7: number of mRNA in cytoplasmn in channel 2 for each cell in each frame\\n## i can use mask and threshold to separate the cytoplasm from the background and then extract the number of mRNA in the cytoplasm\\n\\n# column7: number of transcription sites in channel 2 for each cell in each frame\\n\\n# column8: intensity of transcription sites in channel 2 for each cell in each frame\\n\\n\""
      ]
     },
     "execution_count": 43,
     "metadata": {},
     "output_type": "execute_result"
    }
   ],
   "source": [
    "#The objective of this script is to extract metadata from tiff files that contain images of cells\n",
    "\n",
    "# 1- I want to open tiff files that are in a specific folder and extract the metadata\n",
    "#each tiff files has several frames\n",
    "## for this i will use the package tifffile and the function imread to open the tiff files\n",
    "import tifffile\n",
    "from tifffile import imread\n",
    "\n",
    "#I want to open a folder of tiff files and read each file\n",
    "import os \n",
    "path = 'Drug1_1000nM/' #this is the path to the folder where the tiff files are\n",
    "files = os.listdir(path) #this will list all the files in the folder \n",
    "for file in files: #this will loop over all the files in the folder\n",
    "    open_tiff = imread(path + file) #this will open the tiff file\n",
    "    \n",
    "#i have to define the metadata that i want to extract from the tiff files\n",
    "\n",
    "metadata = {'frame_number':[], 'cell_number':[], 'number_of_viable_cells':[], 'cell_size':[], 'nucleus_size':[], 'protein_concentration':[], 'number_of_mRNA_in_nucleus':[], 'number_of_mRNA_in_cytoplasm':[], 'number_of_transcription_sites':[], 'intensity_of_transcription_sites':[]}\n",
    "\n",
    "# 2- The images have 3 channels, I want to extract specific data from each channel so i want to separate the channels\n",
    "# channel 0: red (1) where we can see the nucleus\n",
    "# channel 1: green (2) where we can see the protein expresion\n",
    "# channel 2: blue (3) where we can see the mRNA and the transcription sites\n",
    "\n",
    "## for this i will use the function split to separate the channels\n",
    "import numpy as np\n",
    "split_channels = np.split(open_tiff, 3, axis=0)\n",
    "\n",
    "## I will use the function imshow to visualize the images and the channels separately \n",
    "import matplotlib.pyplot as plt\n",
    "plt.imshow(split_channels[0])\n",
    "plt.imshow(split_channels[1])\n",
    "plt.imshow(split_channels[2])\n",
    "\n",
    "# 3- I want to save the metadata in a csv file\n",
    "## for this i will use the package pandas and the function to_csv to save the metadata in a csv file\n",
    "import pandas as pd\n",
    "metadata_df = pd.DataFrame(metadata)\n",
    "metadata_df.to_csv('path/to/csv/file')\n",
    "\n",
    "# 4- The metadata should have this information for each tiff image:\n",
    "\n",
    "# column0: frame number\n",
    "\n",
    "# column1: cell number\n",
    "\n",
    "# column2: number of viable cells (this is 1 for alive cells and 0 for dead cells) in each frame and we are going to use channel 0\n",
    "## for this i will use the function threshold to separate the cells from the background or i can use mask to separate the cells from the background \n",
    "\n",
    "# column3: cell size in each frame, we are going to use channel 1 to extract the cell size\n",
    "##for this i can use mask to separate the cells from the background and then extract the cell size\n",
    "\n",
    "# column4: nucleus size in channel 0 for each cell in each frame\n",
    "## for this i can use mask to separate the cells from the background and then extract the nucleus size\n",
    "\n",
    "# column5: protein concentration in channel 1 for each cell in each frame\n",
    "## for this i can use mask to separate the cells from the background and then extract the protein concentration\n",
    "\n",
    "# column6: number of mRNA in nucleus in channel 2 for each cell in each frame\n",
    "## i can use mask and threshold to separate the nucleus from the background and then extract the number of mRNA in the nucleus\n",
    "\n",
    "# column 7: number of mRNA in cytoplasmn in channel 2 for each cell in each frame\n",
    "## i can use mask and threshold to separate the cytoplasm from the background and then extract the number of mRNA in the cytoplasm\n",
    "\n",
    "# column7: number of transcription sites in channel 2 for each cell in each frame\n",
    "\n",
    "# column8: intensity of transcription sites in channel 2 for each cell in each frame\n"
   ]
  }
 ],
 "metadata": {
  "kernelspec": {
   "display_name": "uqbio2024_py310",
   "language": "python",
   "name": "python3"
  },
  "language_info": {
   "codemirror_mode": {
    "name": "ipython",
    "version": 3
   },
   "file_extension": ".py",
   "mimetype": "text/x-python",
   "name": "python",
   "nbconvert_exporter": "python",
   "pygments_lexer": "ipython3",
   "version": "3.10.13"
  }
 },
 "nbformat": 4,
 "nbformat_minor": 2
}
