{
 "cells": [
  {
   "cell_type": "code",
   "execution_count": null,
   "metadata": {},
   "outputs": [],
   "source": [
    "# Here is where we imported the necessary packages for our code: \n",
    "pip install seaborn\n",
    "# Loading libraries for the course\n",
    "import random\n",
    "import matplotlib.pyplot as plt             # Library used for plotting\n",
    "from matplotlib.patches import Rectangle    # Module to plot a rectangle in the image\n",
    "import urllib.request                       # Library to download data\n",
    "import numpy as np                          # Library for array manipulation\n",
    "import seaborn as sn                        # Library for advanced plotting\n",
    "import pandas as pd                         # Library to manipulate data frames\n",
    "import tifffile                             # Library to store numpy arrays as TIFF\n",
    "import pathlib                              # Library to work with file paths\n",
    "from pathlib import Path                    # Library to work with file paths\n",
    "import skimage                              # Library for image manipulation. scikit-image\n",
    "from skimage.io import imread               # Module from skimage\n",
    "from matplotlib import animation            # Module to plot animations\n"
   ]
  }
 ],
 "metadata": {
  "language_info": {
   "name": "python"
  }
 },
 "nbformat": 4,
 "nbformat_minor": 2
}
