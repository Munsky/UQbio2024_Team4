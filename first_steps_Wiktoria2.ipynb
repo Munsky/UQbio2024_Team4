{
 "cells": [
  {
   "cell_type": "code",
   "execution_count": 1,
   "metadata": {},
   "outputs": [],
   "source": [
    "# read tiff file (video)\n",
    "# divide video into pictures by 1 second\n",
    "# for each picture:\n",
    "# divide it into 3 channels\n",
    "\n",
    "# channel 0 - red (nucleus sizes, number of viable cells)\n",
    "# channel 1 - green (protein expression, cell size, mask for mRNA calculation)\n",
    "# channel 2 - blue (mRNA nucleus, mRNA cytoplasm, transcripton sites number and intensity)\n",
    "\n",
    "# segmentation and binarization (counting 0 pixels for size, founding shapes and counting middle points (localization) as number of cells or transcription sizes)\n",
    "# segmented nucleus as mask to divide mRNAs into nucleus / cytoplasm, and then we can count points and intewnsity\n"
   ]
  },
  {
   "cell_type": "code",
   "execution_count": 2,
   "metadata": {},
   "outputs": [],
   "source": [
    "# Loading libraries for the course\n",
    "import random\n",
    "import matplotlib.pyplot as plt             # Library used for plotting\n",
    "from matplotlib.patches import Rectangle    # Module to plot a rectangle in the image\n",
    "import urllib.request                       # Library to download data\n",
    "import numpy as np                          # Library for array manipulation\n",
    "import seaborn as sn                        # Library for advanced plotting\n",
    "import pandas as pd                         # Library to manipulate data frames\n",
    "import tifffile                             # Library to store numpy arrays as TIFF\n",
    "import pathlib                              # Library to work with file paths\n",
    "from pathlib import Path                    # Library to work with file paths\n",
    "import skimage                              # Library for image manipulation. scikit-image\n",
    "from skimage.io import imread               # Module from skimage\n",
    "from matplotlib import animation            # Module to plot animations\n",
    "\n",
    "from skimage import io, measure               # Module from skimage\n",
    "from skimage.filters import gaussian # Module working with a gaussian filter                           # Library to work with file paths\n",
    "import os\n",
    "%matplotlib inline\n",
    "\n",
    "from ipywidgets import interactive, HBox, VBox, Layout\n",
    "import ipywidgets as widgets\n",
    "\n",
    "from skimage.morphology import binary_dilation\n",
    "from skimage.segmentation import watershed\n",
    "from skimage.draw import polygon\n",
    "from skimage.measure import regionprops\n",
    "from skimage.color import label2rgb\n",
    "from skimage.filters import threshold_otsu\n",
    "from skimage.morphology import binary_erosion\n",
    "from skimage.morphology import binary_closing\n",
    "from skimage.morphology import binary_opening\n",
    "from skimage.morphology import disk\n",
    "from skimage.morphology import remove_small_objects\n",
    "from scipy import ndimage as ndi              # Distance Transform\n",
    "from skimage.feature import peak_local_max    # Local maxima in a matrix\n",
    "from skimage.segmentation import watershed    # Watershed algorithm\n",
    "from skimage.filters import difference_of_gaussians\n",
    "import numpy as np\n",
    "import matplotlib.pyplot as plt\n",
    "from skimage import io as ski_io, color as ski_color, filters as ski_filters\n",
    "from PIL import Image\n"
   ]
  },
  {
   "cell_type": "code",
   "execution_count": 5,
   "metadata": {},
   "outputs": [
    {
     "data": {
      "text/plain": [
       "['.DS_Store',\n",
       " '.git',\n",
       " '.gitattributes',\n",
       " '.ipynb_checkpoints',\n",
       " 'Drug10_1000nM',\n",
       " 'Drug1_1000nM',\n",
       " 'Drug4_1000nM',\n",
       " 'first_step.ipynb',\n",
       " 'NoDrug']"
      ]
     },
     "execution_count": 5,
     "metadata": {},
     "output_type": "execute_result"
    }
   ],
   "source": [
    "os.listdir()"
   ]
  },
  {
   "cell_type": "code",
   "execution_count": 6,
   "metadata": {},
   "outputs": [],
   "source": [
    "image_path = str(\"Drug1_1000nM/rep1_FOV1.tif\")\n",
    "images = Image.open(image_path)"
   ]
  },
  {
   "cell_type": "code",
   "execution_count": 7,
   "metadata": {},
   "outputs": [
    {
     "name": "stdout",
     "output_type": "stream",
     "text": [
      "(650, 650)\n"
     ]
    }
   ],
   "source": [
    "print(np.shape(images))\n"
   ]
  }
 ],
 "metadata": {
  "kernelspec": {
   "display_name": "Python 3 (ipykernel)",
   "language": "python",
   "name": "python3"
  },
  "language_info": {
   "codemirror_mode": {
    "name": "ipython",
    "version": 3
   },
   "file_extension": ".py",
   "mimetype": "text/x-python",
   "name": "python",
   "nbconvert_exporter": "python",
   "pygments_lexer": "ipython3",
   "version": "3.12.3"
  }
 },
 "nbformat": 4,
 "nbformat_minor": 4
}
