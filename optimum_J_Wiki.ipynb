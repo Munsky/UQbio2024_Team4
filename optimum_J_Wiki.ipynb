{
 "cells": [
  {
   "cell_type": "code",
   "execution_count": 35,
   "metadata": {},
   "outputs": [],
   "source": [
    "# Import the necessary packages\n",
    "import numpy as np\n",
    "import matplotlib.pyplot as plt\n",
    "import scipy as sp\n",
    "from scipy.integrate import odeint\n",
    "from types import *\n",
    "import matplotlib.animation as animation\n",
    "from matplotlib import rc\n",
    "import pandas as pd\n",
    "import matplotlib.pyplot as plt\n",
    "import os\n",
    "import pandas as pd\n"
   ]
  },
  {
   "cell_type": "code",
   "execution_count": 36,
   "metadata": {},
   "outputs": [
    {
     "name": "stdout",
     "output_type": "stream",
     "text": [
      "[['Drug10' 'Drug10' 'Drug10' 'Drug10' 'Drug10' 'Drug1' 'Drug1' 'Drug1'\n",
      "  'Drug1' 'Drug1' 'Drug1' 'Drug2' 'Drug2' 'Drug2' 'Drug2' 'Drug2' 'Drug3'\n",
      "  'Drug3' 'Drug3' 'Drug3' 'Drug3' 'Drug4' 'Drug4' 'Drug4' 'Drug4' 'Drug4'\n",
      "  'Drug5' 'Drug5' 'Drug5' 'Drug5' 'Drug5' 'Drug6' 'Drug6' 'Drug6' 'Drug6'\n",
      "  'Drug6' 'Drug7' 'Drug7' 'Drug7' 'Drug7' 'Drug7' 'Drug8' 'Drug8' 'Drug8'\n",
      "  'Drug8' 'Drug8' 'Drug9' 'Drug9' 'Drug9' 'Drug9' 'Drug9' 'NoDrug']\n",
      " ['10000nM' '1000nM' '100nM' '3000nM' '300nM' '10000nM' '1000nM' '100nM'\n",
      "  '1nM' '3000nM' '300nM' '10000nM' '1000nM' '100nM' '3000nM' '300nM'\n",
      "  '10000nM' '1000nM' '100nM' '3000nM' '300nM' '10000nM' '1000nM' '100nM'\n",
      "  '3000nM' '300nM' '10000nM' '1000nM' '100nM' '3000nM' '300nM' '10000nM'\n",
      "  '1000nM' '100nM' '3000nM' '300nM' '10000nM' '1000nM' '100nM' '3000nM'\n",
      "  '300nM' '10000nM' '1000nM' '100nM' '3000nM' '300nM' '10000nM' '1000nM'\n",
      "  '100nM' '3000nM' '300nM' '0']\n",
      " ['0.06552757164319623' '0.10587526648144442' '0.07186984678932452'\n",
      "  '0.0779652688490883' '0.07279730610936457' '0.06493506493506493'\n",
      "  '0.06523083835080047' '0.05796211400585432' '0.06402067184776992'\n",
      "  '0.06515780860979754' '0.06133986916819473' '0.06646559774674118'\n",
      "  '0.10325603195543122' '0.06085498209989147' '0.0784635024411681'\n",
      "  '0.06711923767520996' '0.06493506493506493' '0.06480146019785106'\n",
      "  '0.07281668195407341' '0.06439240185776222' '0.05800055216177839'\n",
      "  '0.06493506493506493' '0.10417757763954733' '0.0621804145958844'\n",
      "  '0.07566345055718816' '0.06376540421921639' '0.06493506493506493'\n",
      "  '0.06498536643305389' '0.0677615678217239' '0.06519036717142279'\n",
      "  '0.06801568179119862' '0.06493506493506493' '0.1073754004068568'\n",
      "  '0.07265271028780436' '0.08048337924016925' '0.08846041616453025'\n",
      "  '0.07098452284512989' '0.12194860141978658' '0.06243274052937016'\n",
      "  '0.10044382909481633' '0.06600762452510098' '0.06493506493506493'\n",
      "  '0.06543910213430085' '0.0629864142220649' '0.06514355854270622'\n",
      "  '0.06418882393638144' '0.06493506493506493' '0.06561304553983381'\n",
      "  '0.059155858524020895' '0.06580380622631148' '0.06013520955204576'\n",
      "  '0.059524284506884864']]\n"
     ]
    }
   ],
   "source": [
    "pathName = \"TrueData\"\n",
    "\n",
    "# List all files in the directory\n",
    "all_files = os.listdir(pathName)\n",
    "\n",
    "# Filter out non-CSV files\n",
    "csv_files = [f for f in all_files if f.endswith('.csv')]\n",
    "\n",
    "# Initialize an empty list to hold the DataFrames\n",
    "data_all = []\n",
    "drugs = []\n",
    "conc = []\n",
    "di = [0, 100, 300, 1000, 3000, 10000]\n",
    "J = []\n",
    "# Loop through the list of CSV files and read each one into a DataFrame\n",
    "for file in csv_files:\n",
    "    file_path = os.path.join(pathName, file)\n",
    "    df = pd.read_csv(file_path)\n",
    "    \n",
    "\n",
    "    # take first part of file name as the name of the data\n",
    "    name = file.split('_')[0]\n",
    "\n",
    "    drugs.append(name)\n",
    "\n",
    "    if name == \"NoDrug\":\n",
    "        conc.append(0)\n",
    "    else:\n",
    "        conc.append((file.split('_')[1]))\n",
    "\n",
    "    vitality = df.groupby('Time')['is_cell_vital'].mean()\n",
    "    protein = df.groupby('Time')['Cyto_Intensity_1'].mean()\n",
    "\n",
    "    # take first value of vitality as the initial value\n",
    "    vitality0 = np.array(vitality)[0]\n",
    "    protein0 = np.array(protein)[0]\n",
    "    \n",
    "    # divide all values by the initial value\n",
    "    f = vitality/vitality0\n",
    "    p = (protein0 - protein)/protein0\n",
    "\n",
    "    # j = last f\n",
    "    j = (f.iloc[-1] + p.iloc[-1]) / (1+ (sum(di)/1000))\n",
    "\n",
    "    J.append(j)\n",
    "\n",
    "\n",
    "data_all.append(drugs)\n",
    "data_all.append(conc)\n",
    "data_all.append(J)\n",
    "data_all = np.array(data_all)\n",
    "\n",
    "print(data_all)\n",
    "\n"
   ]
  },
  {
   "cell_type": "code",
   "execution_count": 37,
   "metadata": {},
   "outputs": [],
   "source": [
    "# group data_all by drug and find max J for each drug\n",
    "data_all = pd.DataFrame(data_all.T, columns = ['Drug', 'Concentration', 'J'])\n",
    "data_all['J'] = data_all['J'].astype(float)\n",
    "data_all2 = data_all.groupby('Drug').max().reset_index()\n"
   ]
  }
 ],
 "metadata": {
  "kernelspec": {
   "display_name": "uqbio2024_py310",
   "language": "python",
   "name": "python3"
  },
  "language_info": {
   "codemirror_mode": {
    "name": "ipython",
    "version": 3
   },
   "file_extension": ".py",
   "mimetype": "text/x-python",
   "name": "python",
   "nbconvert_exporter": "python",
   "pygments_lexer": "ipython3",
   "version": "3.10.14"
  }
 },
 "nbformat": 4,
 "nbformat_minor": 2
}
