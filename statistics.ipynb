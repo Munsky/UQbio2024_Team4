{
 "cells": [
  {
   "cell_type": "code",
   "execution_count": null,
   "metadata": {},
   "outputs": [],
   "source": [
    "#mean nuclear RNA per living cell\n",
    "#mean cytomlapsmic RNA per living cell\n",
    "#protein concentration per living cell [a.u.]\n",
    "#vitability\n",
    "#ANOVA\n",
    "#boxplots ???\n",
    "\n",
    "#drug in columns - big subplot"
   ]
  }
 ],
 "metadata": {
  "language_info": {
   "name": "python"
  }
 },
 "nbformat": 4,
 "nbformat_minor": 2
}
