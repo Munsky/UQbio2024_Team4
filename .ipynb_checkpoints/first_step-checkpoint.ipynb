{
 "cells": [
  {
   "cell_type": "code",
   "execution_count": null,
   "metadata": {},
   "outputs": [],
   "source": [
    "# read tiff file (video)\n",
    "# divide video into pictures by 1 second\n",
    "# for each picture:\n",
    "# divide it into 3 channels\n",
    "\n",
    "# channel 0 - red (nucleus sizes, number of viable cells)\n",
    "# channel 1 - green (protein expression, cell size, mask for mRNA calculation)\n",
    "# channel 2 - blue (mRNA nucleus, mRNA cytoplasm, transcripton sites number and intensity)\n",
    "\n",
    "# segmentation and binarization (counting 0 pixels for size, founding shapes and counting middle points (localization) as number of cells or transcription sizes)\n",
    "# segmented nucleus as mask to divide mRNAs into nucleus / cytoplasm, and then we can count points and intewnsity\n"
   ]
  },
  {
   "cell_type": "code",
   "execution_count": 1,
   "metadata": {},
   "outputs": [],
   "source": [
    "import tifffile\n",
    "from tifffile import imread\n",
    "import numpy as np\n",
    "import os"
   ]
  }
 ],
 "metadata": {
  "kernelspec": {
   "display_name": "Python 3",
   "language": "python",
   "name": "python3"
  },
  "language_info": {
   "codemirror_mode": {
    "name": "ipython",
    "version": 3
   },
   "file_extension": ".py",
   "mimetype": "text/x-python",
   "name": "python",
   "nbconvert_exporter": "python",
   "pygments_lexer": "ipython3",
   "version": "3.12.3"
  }
 },
 "nbformat": 4,
 "nbformat_minor": 2
}
